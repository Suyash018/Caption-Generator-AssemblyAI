{
 "cells": [
  {
   "cell_type": "code",
   "execution_count": null,
   "metadata": {},
   "outputs": [],
   "source": [
    "import assemblyai as aai\n",
    "\n",
    "aai.settings.api_key = \"YOUR_API_KEY\" # Add your API key\n",
    "transcriber = aai.Transcriber()\n"
   ]
  },
  {
   "cell_type": "code",
   "execution_count": null,
   "metadata": {},
   "outputs": [],
   "source": [
    "\n",
    "config = aai.TranscriptionConfig(speaker_labels=True)\n",
    "\n",
    "\n",
    "transcript = transcriber.transcribe(\"audio.mp3\"\n",
    "                                    ,config=config) #Change Audio file here\n",
    "\n",
    "print(transcript.text)"
   ]
  },
  {
   "cell_type": "markdown",
   "metadata": {},
   "source": [
    "SRT by taking out senetence"
   ]
  },
  {
   "cell_type": "code",
   "execution_count": null,
   "metadata": {},
   "outputs": [],
   "source": [
    "sentences = transcript.get_sentences()\n",
    "\n"
   ]
  },
  {
   "cell_type": "code",
   "execution_count": null,
   "metadata": {},
   "outputs": [],
   "source": [
    "sentences"
   ]
  },
  {
   "cell_type": "code",
   "execution_count": null,
   "metadata": {},
   "outputs": [],
   "source": [
    "type(sentences)"
   ]
  },
  {
   "cell_type": "markdown",
   "metadata": {},
   "source": [
    "No Char / word limit"
   ]
  },
  {
   "cell_type": "code",
   "execution_count": null,
   "metadata": {},
   "outputs": [],
   "source": [
    "srt_output = []\n",
    "current_block = 1\n",
    "\n",
    "for sentence in sentences:\n",
    "    start_time = sentence.start\n",
    "    end_time = sentence.end\n",
    "\n",
    "    sms=start_time %1000\n",
    "    ems=end_time %1000\n",
    "\n",
    "    ss=(start_time /1000)%60\n",
    "    es=(end_time /1000) %60\n",
    "    sm=((start_time /1000)/60)%60\n",
    "    em=((end_time /1000)/60) %60\n",
    "    sh=(((start_time /1000)/60)/60)%60\n",
    "    eh=(((end_time /1000)/60)/60) %60\n",
    "\n",
    "    start_time_str = f\"{int(sh):02d}:{int(sm):02d}:{int(ss):02d},{int(sms):03d}\"\n",
    "    end_time_str = f\"{int(eh):02d}:{int(em):02d}:{int(es):02d},{int(ems):03d}\"\n",
    "\n",
    "    srt_output.append(f\"{current_block}\")\n",
    "    srt_output.append(f\"{start_time_str} --> {end_time_str}\")\n",
    "    srt_output.append(f\"{sentences[current_block - 1].speaker}: {sentences[current_block - 1].text}\")\n",
    "    srt_output.append(\"\")\n",
    "\n",
    "    current_block += 1\n",
    "\n",
    "with open('Nolimit.srt', 'w') as f:\n",
    "    f.write('\\n'.join(srt_output))"
   ]
  },
  {
   "cell_type": "markdown",
   "metadata": {},
   "source": [
    "10 Word limit"
   ]
  },
  {
   "cell_type": "code",
   "execution_count": null,
   "metadata": {},
   "outputs": [],
   "source": [
    "wordLimit=10 # change word Limit"
   ]
  },
  {
   "cell_type": "code",
   "execution_count": null,
   "metadata": {},
   "outputs": [],
   "source": [
    "\n",
    "srt_output = []\n",
    "current_block = 1\n",
    "\n",
    "for sentence in sentences:\n",
    "    words = sentence.words\n",
    "    if len(words) <= wordLimit:\n",
    "        start_time = min(word.start for word in words)\n",
    "        end_time = max(word.end for word in words)\n",
    "        \n",
    "        sms = start_time % 1000\n",
    "        ems = end_time % 1000\n",
    "        ss = (start_time // 1000) % 60\n",
    "        es = (end_time // 1000) % 60\n",
    "        sm = ((start_time // 1000) // 60) % 60\n",
    "        em = ((end_time // 1000) // 60) % 60\n",
    "        sh = (((start_time // 1000) // 60) // 60) % 60\n",
    "        eh = (((end_time // 1000) // 60) // 60) % 60\n",
    "\n",
    "        start_time_str = f\"{int(sh):02d}:{int(sm):02d}:{int(ss):02d},{int(sms):03d}\"\n",
    "        end_time_str = f\"{int(eh):02d}:{int(em):02d}:{int(es):02d},{int(ems):03d}\"\n",
    "\n",
    "        srt_output.append(f\"{current_block}\")\n",
    "        srt_output.append(f\"{start_time_str} --> {end_time_str}\")\n",
    "        srt_output.append(f\"{sentence.text}\")\n",
    "        srt_output.append(\"\")\n",
    "\n",
    "        current_block += 1\n",
    "    else:\n",
    "        start = 0\n",
    "        for i in range(0, len(words), wordLimit):\n",
    "            end = min(i + wordLimit, len(words))\n",
    "            sub_sentence = words[start:end]\n",
    "            start_time = min(word.start for word in sub_sentence)\n",
    "            end_time = max(word.end for word in sub_sentence)\n",
    "\n",
    "            sms = start_time % 1000\n",
    "            ems = end_time % 1000\n",
    "            ss = (start_time // 1000) % 60\n",
    "            es = (end_time // 1000) % 60\n",
    "            sm = ((start_time // 1000) // 60) % 60\n",
    "            em = ((end_time // 1000) // 60) % 60\n",
    "            sh = (((start_time // 1000) // 60) // 60) % 60\n",
    "            eh = (((end_time // 1000) // 60) // 60) % 60\n",
    "\n",
    "            start_time_str = f\"{int(sh):02d}:{int(sm):02d}:{int(ss):02d},{int(sms):03d}\"\n",
    "            end_time_str = f\"{int(eh):02d}:{int(em):02d}:{int(es):02d},{int(ems):03d}\"\n",
    "\n",
    "            srt_output.append(f\"{current_block}\")\n",
    "            srt_output.append(f\"{start_time_str} --> {end_time_str}\")\n",
    "            srt_output.append(f\"{' '.join(word.text for word in sub_sentence)}\")\n",
    "            srt_output.append(\"\")\n",
    "\n",
    "            current_block += 1\n",
    "            start = end\n",
    "\n",
    "with open('Limited10.srt', 'w') as f:\n",
    "    f.write('\\n'.join(srt_output))"
   ]
  },
  {
   "cell_type": "markdown",
   "metadata": {},
   "source": [
    "Word Level For Reels/ Youtube Shorts"
   ]
  },
  {
   "cell_type": "code",
   "execution_count": null,
   "metadata": {},
   "outputs": [],
   "source": [
    "words = transcript.words\n",
    "words\n",
    "\n",
    "srt_output = []\n",
    "current_block = 1\n",
    "\n",
    "for Word in words:\n",
    "    print(Word)\n",
    "    start_time = Word.start\n",
    "    end_time = Word.end\n",
    "\n",
    "    sms=start_time %1000\n",
    "    ems=end_time %1000\n",
    "\n",
    "    ss=(start_time /1000)%60\n",
    "    es=(end_time /1000) %60\n",
    "    sm=((start_time /1000)/60)%60\n",
    "    em=((end_time /1000)/60) %60\n",
    "    sh=(((start_time /1000)/60)/60)%60\n",
    "    eh=(((end_time /1000)/60)/60) %60\n",
    "\n",
    "    start_time_str = f\"{int(sh):02d}:{int(sm):02d}:{int(ss):02d},{int(sms):03d}\"\n",
    "    end_time_str = f\"{int(eh):02d}:{int(em):02d}:{int(es):02d},{int(ems):03d}\"\n",
    "\n",
    "    srt_output.append(f\"{current_block}\")\n",
    "    srt_output.append(f\"{start_time_str} --> {end_time_str}\")\n",
    "    srt_output.append(f\" {Word.text}\")\n",
    "    srt_output.append(\"\")\n",
    "\n",
    "    current_block += 1\n",
    "\n",
    "with open('wordLevel.srt', 'w') as f:\n",
    "    f.write('\\n'.join(srt_output))"
   ]
  }
 ],
 "metadata": {
  "kernelspec": {
   "display_name": "Python 3",
   "language": "python",
   "name": "python3"
  },
  "language_info": {
   "codemirror_mode": {
    "name": "ipython",
    "version": 3
   },
   "file_extension": ".py",
   "mimetype": "text/x-python",
   "name": "python",
   "nbconvert_exporter": "python",
   "pygments_lexer": "ipython3",
   "version": "3.11.8"
  }
 },
 "nbformat": 4,
 "nbformat_minor": 2
}
